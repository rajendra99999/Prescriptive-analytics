{
 "cells": [
  {
   "cell_type": "code",
   "execution_count": 2,
   "id": "religious-elizabeth",
   "metadata": {},
   "outputs": [],
   "source": [
    "import numpy as np\n",
    "from scipy.optimize import linprog"
   ]
  },
  {
   "cell_type": "markdown",
   "id": "circular-listing",
   "metadata": {},
   "source": [
    "## Example 1\n",
    "Let’s first solve the linear programming problem from above:\n",
    "\n",
    "## maximize z= x+2y\n",
    "### stc 2x+y <=20\n",
    "### -4x+5y <=10\n",
    "### -x+2y >= -2\n",
    "### -x+5y = 15\n",
    "### x,y>=0\n"
   ]
  },
  {
   "cell_type": "code",
   "execution_count": 13,
   "id": "driving-failure",
   "metadata": {},
   "outputs": [],
   "source": [
    "# convert max to min and all stc in <= \n",
    "\n",
    "obj = [-1,-2]\n",
    "lhs_ineq=[[2,1],[-4,5],[1,-2]]\n",
    "rhs_ineq=[20,10,2]\n",
    "lhs_eq=[[-1,5]]\n",
    "rhs_eq=[15]\n",
    "bnds=[(0,float(\"inf\")),(0,float(\"inf\"))]"
   ]
  },
  {
   "cell_type": "code",
   "execution_count": 14,
   "id": "floating-scott",
   "metadata": {},
   "outputs": [],
   "source": [
    "sol=linprog(c=obj,\n",
    "    A_ub=lhs_ineq,\n",
    "    b_ub=rhs_ineq,\n",
    "    A_eq=lhs_eq,\n",
    "    b_eq=rhs_eq,\n",
    "    bounds=bnds,\n",
    "    method='revised simplex')"
   ]
  },
  {
   "cell_type": "code",
   "execution_count": 15,
   "id": "worthy-sudan",
   "metadata": {},
   "outputs": [
    {
     "data": {
      "text/plain": [
       "     con: array([1.77635684e-15])\n",
       "     fun: -16.818181818181817\n",
       " message: 'Optimization terminated successfully.'\n",
       "     nit: 3\n",
       "   slack: array([ 0.        , 18.18181818,  3.36363636])\n",
       "  status: 0\n",
       " success: True\n",
       "       x: array([7.72727273, 4.54545455])"
      ]
     },
     "execution_count": 15,
     "metadata": {},
     "output_type": "execute_result"
    }
   ],
   "source": [
    "sol"
   ]
  },
  {
   "cell_type": "code",
   "execution_count": 17,
   "id": "reduced-tackle",
   "metadata": {},
   "outputs": [
    {
     "data": {
      "text/plain": [
       "array([7.72727273, 4.54545455])"
      ]
     },
     "execution_count": 17,
     "metadata": {},
     "output_type": "execute_result"
    }
   ],
   "source": [
    "sol.x"
   ]
  },
  {
   "cell_type": "markdown",
   "id": "social-department",
   "metadata": {},
   "source": [
    "# Resource Allocation Problem\n",
    "In the previous sections, you looked at an abstract linear programming problem that wasn’t tied to any real-world application. In this subsection, you’ll find a more concrete and practical optimization problem related to resource allocation in manufacturing.\n",
    "\n",
    "Say that a factory produces four different products, and that the daily produced amount of the first product is x₁, the amount produced of the second product is x₂, and so on. The goal is to determine the profit-maximizing daily production amount for each product, bearing in mind the following conditions:\n",
    "\n",
    "#### The profit per unit of product is $20, $12, $40, and $25 for the first, second, third, and fourth product, respectively.\n",
    "\n",
    "#### Due to manpower constraints, the total number of units produced per day can’t exceed fifty.\n",
    "\n",
    "#### For each unit of the first product, three units of the raw material A are consumed. Each unit of the second product requires two units of the raw material A and one unit of the raw material B. Each unit of the third product needs one unit of A and two units of B. Finally, each unit of the fourth product requires three units of B.\n",
    "\n",
    "#### Due to the transportation and storage constraints, the factory can consume up to one hundred units of the raw material A and ninety units of B per day.\n",
    "\n",
    "The mathematical model can be defined like this:\n",
    "## maximize z= 20x1+12x2+40x3+25x4\n",
    "### stc x1+x2+x3+x4 <=50\n",
    "### 3x1+2x2=x3 <=100\n",
    "### x2+2x3+3x4 <=90\n",
    "\n",
    "### x1,x2,x3,x4>=0"
   ]
  },
  {
   "cell_type": "code",
   "execution_count": 18,
   "id": "south-sharp",
   "metadata": {},
   "outputs": [],
   "source": [
    "# convert max to min and all stc in <= \n",
    "\n",
    "obj = [-20,-12,-40,-25]\n",
    "lhs_ineq=[[1,1,1,1],[3,2,1,0],[0,1,2,3]]\n",
    "rhs_ineq=[50,100,90]\n",
    "\n",
    "bnds=[(0,float(\"inf\")),(0,float(\"inf\"))]"
   ]
  },
  {
   "cell_type": "code",
   "execution_count": 19,
   "id": "certified-commodity",
   "metadata": {},
   "outputs": [],
   "source": [
    "opt=linprog(c=obj,\n",
    "    A_ub=lhs_ineq,\n",
    "    b_ub=rhs_ineq,\n",
    "    method='revised simplex')"
   ]
  },
  {
   "cell_type": "code",
   "execution_count": 20,
   "id": "compatible-barrier",
   "metadata": {},
   "outputs": [
    {
     "data": {
      "text/plain": [
       "     con: array([], dtype=float64)\n",
       "     fun: -1900.0\n",
       " message: 'Optimization terminated successfully.'\n",
       "     nit: 2\n",
       "   slack: array([ 0., 40.,  0.])\n",
       "  status: 0\n",
       " success: True\n",
       "       x: array([ 5.,  0., 45.,  0.])"
      ]
     },
     "execution_count": 20,
     "metadata": {},
     "output_type": "execute_result"
    }
   ],
   "source": [
    "opt"
   ]
  },
  {
   "cell_type": "code",
   "execution_count": 21,
   "id": "cross-mathematics",
   "metadata": {},
   "outputs": [
    {
     "data": {
      "text/plain": [
       "45.0"
      ]
     },
     "execution_count": 21,
     "metadata": {},
     "output_type": "execute_result"
    }
   ],
   "source": [
    "opt.x[2]"
   ]
  },
  {
   "cell_type": "code",
   "execution_count": null,
   "id": "reflected-arrest",
   "metadata": {},
   "outputs": [],
   "source": []
  }
 ],
 "metadata": {
  "kernelspec": {
   "display_name": "Python 3",
   "language": "python",
   "name": "python3"
  },
  "language_info": {
   "codemirror_mode": {
    "name": "ipython",
    "version": 3
   },
   "file_extension": ".py",
   "mimetype": "text/x-python",
   "name": "python",
   "nbconvert_exporter": "python",
   "pygments_lexer": "ipython3",
   "version": "3.9.2"
  }
 },
 "nbformat": 4,
 "nbformat_minor": 5
}
