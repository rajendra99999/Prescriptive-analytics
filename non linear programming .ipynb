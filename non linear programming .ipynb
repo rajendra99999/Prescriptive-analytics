{
 "cells": [
  {
   "cell_type": "code",
   "execution_count": 2,
   "id": "compound-poison",
   "metadata": {},
   "outputs": [],
   "source": [
    "import numpy as np\n",
    "from scipy.optimize import minimize"
   ]
  },
  {
   "cell_type": "markdown",
   "id": "satellite-cancer",
   "metadata": {},
   "source": [
    "# Exercise\n",
    "One example of an optimization problem from a benchmark test set is the Hock Schittkowski problem\n",
    "#### min x1x4(x1+x2+x3)+x3\n",
    "\n",
    "#### stc   x1x2x3x4 >=25\n",
    "####         x1^2+x2^2+x3^2+x4^2=40\n",
    "#### 1<=x1,x2,x3,x4<=5\n",
    "#### x0=(1,5,5,1)"
   ]
  },
  {
   "cell_type": "code",
   "execution_count": 3,
   "id": "orange-hobby",
   "metadata": {},
   "outputs": [],
   "source": [
    "# def objective function \n",
    "\n",
    "def obj(x):\n",
    "    return x[0]*x[3]*(x[0]+x[1]+x[2])+x[2]"
   ]
  },
  {
   "cell_type": "code",
   "execution_count": 26,
   "id": "grateful-message",
   "metadata": {},
   "outputs": [],
   "source": [
    "# subject to constarins \n",
    "\n",
    "def constarin1(x):\n",
    "    return x[0]*x[1]*x[2]*x[3]-25.0\n",
    "\n",
    "def constarin2(x):\n",
    "    sum_sq=40\n",
    "    for i in range(len(x)):\n",
    "        sum_sq=sum_sq-x[i]**2\n",
    "    return sum_sq"
   ]
  },
  {
   "cell_type": "code",
   "execution_count": 27,
   "id": "cloudy-wallet",
   "metadata": {},
   "outputs": [
    {
     "name": "stdout",
     "output_type": "stream",
     "text": [
      "16\n"
     ]
    }
   ],
   "source": [
    "# initial assumstions \n",
    "\n",
    "x0=[1,5,5,1]\n",
    "print(obj(x0))"
   ]
  },
  {
   "cell_type": "code",
   "execution_count": 28,
   "id": "sitting-dallas",
   "metadata": {},
   "outputs": [],
   "source": [
    "# define bonds and constarins \n",
    "\n",
    "b=(1.0,5.0)\n",
    "bnds=(b,b,b,b)\n",
    "\n",
    "con1={'type':'ineq','fun':constarin1}\n",
    "con2={'type':'eq','fun':constarin2}\n",
    "con=[con1,con2]"
   ]
  },
  {
   "cell_type": "code",
   "execution_count": 29,
   "id": "alone-journalism",
   "metadata": {},
   "outputs": [],
   "source": [
    "sol=minimize(obj,x0,bounds=bnds,constraints=con,method='SLSQP')"
   ]
  },
  {
   "cell_type": "code",
   "execution_count": 30,
   "id": "proof-devil",
   "metadata": {},
   "outputs": [
    {
     "data": {
      "text/plain": [
       "     fun: 17.01401724563517\n",
       "     jac: array([14.57227015,  1.37940764,  2.37940764,  9.56415057])\n",
       " message: 'Optimization terminated successfully'\n",
       "    nfev: 25\n",
       "     nit: 5\n",
       "    njev: 5\n",
       "  status: 0\n",
       " success: True\n",
       "       x: array([1.        , 4.7429961 , 3.82115462, 1.37940765])"
      ]
     },
     "execution_count": 30,
     "metadata": {},
     "output_type": "execute_result"
    }
   ],
   "source": [
    "sol"
   ]
  },
  {
   "cell_type": "code",
   "execution_count": 31,
   "id": "medical-engineering",
   "metadata": {},
   "outputs": [
    {
     "name": "stdout",
     "output_type": "stream",
     "text": [
      "1.0\n",
      "4.742996096883977\n",
      "3.8211546234095715\n",
      "1.379407645075325\n"
     ]
    }
   ],
   "source": [
    "for i in sol.x:\n",
    "    print(i)"
   ]
  },
  {
   "cell_type": "code",
   "execution_count": null,
   "id": "outer-anime",
   "metadata": {},
   "outputs": [],
   "source": []
  }
 ],
 "metadata": {
  "kernelspec": {
   "display_name": "Python 3",
   "language": "python",
   "name": "python3"
  },
  "language_info": {
   "codemirror_mode": {
    "name": "ipython",
    "version": 3
   },
   "file_extension": ".py",
   "mimetype": "text/x-python",
   "name": "python",
   "nbconvert_exporter": "python",
   "pygments_lexer": "ipython3",
   "version": "3.9.2"
  }
 },
 "nbformat": 4,
 "nbformat_minor": 5
}
