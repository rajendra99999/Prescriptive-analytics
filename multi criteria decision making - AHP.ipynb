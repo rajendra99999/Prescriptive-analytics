{
 "cells": [
  {
   "cell_type": "markdown",
   "id": "educational-rental",
   "metadata": {},
   "source": [
    "## How to Rank Entities with Multi-Criteria Decision Making Methods(MCDM)\n",
    "\n",
    "### I. Weighted Sum Method\n",
    "### II. Weighted Product Method\n",
    "### III. Analytic hierarchy process (AHP — Method)\n",
    "## LET’S SOLVE A PROBLEM WITH WHATEVER WE HAVE LEARNED SO FAR\n",
    "I wanted to buy a new mobile phone. So I spend 2–3 hours on Amazon after which I was able to shortlist 5 best smartphones. I was very confused about which phone will be the best value for the money of these 5. So, I followed our learned MCDM techniques —\n",
    "\n",
    "##### Let’s constructed an Alternate Matrix and Defined Criteria on which we will judge a smartphone.\n",
    "Best Phone is one with criteria as [Price, Storage, Camera, Looks] → [MIN, MAX, MAX, MAX]\n",
    "After some thinking about my needs added weightage to each criterion. [Price, Storage, Camera, Looks] → [0.4, 0.2, 0.3, 0.1] (Note: Sum of all weights such be equal to 1)"
   ]
  },
  {
   "cell_type": "code",
   "execution_count": 1,
   "id": "regional-noise",
   "metadata": {},
   "outputs": [],
   "source": [
    "import numpy as np\n",
    "import pandas as pd"
   ]
  },
  {
   "cell_type": "code",
   "execution_count": 39,
   "id": "sunset-simulation",
   "metadata": {},
   "outputs": [],
   "source": [
    "data=pd.read_excel('mcdm.xlsx')"
   ]
  },
  {
   "cell_type": "code",
   "execution_count": 40,
   "id": "accepted-freight",
   "metadata": {},
   "outputs": [
    {
     "data": {
      "text/html": [
       "<div>\n",
       "<style scoped>\n",
       "    .dataframe tbody tr th:only-of-type {\n",
       "        vertical-align: middle;\n",
       "    }\n",
       "\n",
       "    .dataframe tbody tr th {\n",
       "        vertical-align: top;\n",
       "    }\n",
       "\n",
       "    .dataframe thead th {\n",
       "        text-align: right;\n",
       "    }\n",
       "</style>\n",
       "<table border=\"1\" class=\"dataframe\">\n",
       "  <thead>\n",
       "    <tr style=\"text-align: right;\">\n",
       "      <th></th>\n",
       "      <th>price</th>\n",
       "      <th>storage</th>\n",
       "      <th>camera</th>\n",
       "      <th>looks</th>\n",
       "    </tr>\n",
       "    <tr>\n",
       "      <th>mobile</th>\n",
       "      <th></th>\n",
       "      <th></th>\n",
       "      <th></th>\n",
       "      <th></th>\n",
       "    </tr>\n",
       "  </thead>\n",
       "  <tbody>\n",
       "    <tr>\n",
       "      <th>nokia</th>\n",
       "      <td>17000</td>\n",
       "      <td>12</td>\n",
       "      <td>16</td>\n",
       "      <td>3</td>\n",
       "    </tr>\n",
       "    <tr>\n",
       "      <th>samsung</th>\n",
       "      <td>22000</td>\n",
       "      <td>32</td>\n",
       "      <td>32</td>\n",
       "      <td>3</td>\n",
       "    </tr>\n",
       "    <tr>\n",
       "      <th>lg</th>\n",
       "      <td>19000</td>\n",
       "      <td>16</td>\n",
       "      <td>64</td>\n",
       "      <td>4</td>\n",
       "    </tr>\n",
       "    <tr>\n",
       "      <th>vivo</th>\n",
       "      <td>26000</td>\n",
       "      <td>64</td>\n",
       "      <td>128</td>\n",
       "      <td>2</td>\n",
       "    </tr>\n",
       "    <tr>\n",
       "      <th>lenovo</th>\n",
       "      <td>15000</td>\n",
       "      <td>8</td>\n",
       "      <td>32</td>\n",
       "      <td>2</td>\n",
       "    </tr>\n",
       "  </tbody>\n",
       "</table>\n",
       "</div>"
      ],
      "text/plain": [
       "         price  storage  camera  looks\n",
       "mobile                                \n",
       "nokia    17000       12      16      3\n",
       "samsung  22000       32      32      3\n",
       "lg       19000       16      64      4\n",
       "vivo     26000       64     128      2\n",
       "lenovo   15000        8      32      2"
      ]
     },
     "execution_count": 40,
     "metadata": {},
     "output_type": "execute_result"
    }
   ],
   "source": [
    "data.set_index('mobile')"
   ]
  },
  {
   "cell_type": "code",
   "execution_count": 41,
   "id": "fiscal-listening",
   "metadata": {},
   "outputs": [],
   "source": [
    "# linear normlization price is non-benificial and other parameters are benificial \n",
    "# non benificial Xmin/Xi.......... for benificial Xi/Xmax\n",
    "\n",
    "data['price']=data['price'].apply(lambda x: data['price'].min()/x)\n",
    "data['storage']=data['storage'].apply(lambda x: x/data['storage'].max())\n",
    "data['camera']=data['camera'].apply(lambda x: x/data['camera'].max())\n",
    "data['looks']=data['looks'].apply(lambda x: x/data['looks'].max())"
   ]
  },
  {
   "cell_type": "code",
   "execution_count": 42,
   "id": "enhanced-relations",
   "metadata": {},
   "outputs": [],
   "source": [
    "x=data.drop('mobile',axis=1)"
   ]
  },
  {
   "cell_type": "code",
   "execution_count": 43,
   "id": "tight-grain",
   "metadata": {},
   "outputs": [
    {
     "data": {
      "text/html": [
       "<div>\n",
       "<style scoped>\n",
       "    .dataframe tbody tr th:only-of-type {\n",
       "        vertical-align: middle;\n",
       "    }\n",
       "\n",
       "    .dataframe tbody tr th {\n",
       "        vertical-align: top;\n",
       "    }\n",
       "\n",
       "    .dataframe thead th {\n",
       "        text-align: right;\n",
       "    }\n",
       "</style>\n",
       "<table border=\"1\" class=\"dataframe\">\n",
       "  <thead>\n",
       "    <tr style=\"text-align: right;\">\n",
       "      <th></th>\n",
       "      <th>price</th>\n",
       "      <th>storage</th>\n",
       "      <th>camera</th>\n",
       "      <th>looks</th>\n",
       "    </tr>\n",
       "  </thead>\n",
       "  <tbody>\n",
       "    <tr>\n",
       "      <th>0</th>\n",
       "      <td>0.882353</td>\n",
       "      <td>0.1875</td>\n",
       "      <td>0.125</td>\n",
       "      <td>0.75</td>\n",
       "    </tr>\n",
       "    <tr>\n",
       "      <th>1</th>\n",
       "      <td>0.681818</td>\n",
       "      <td>0.5000</td>\n",
       "      <td>0.250</td>\n",
       "      <td>0.75</td>\n",
       "    </tr>\n",
       "    <tr>\n",
       "      <th>2</th>\n",
       "      <td>0.789474</td>\n",
       "      <td>0.2500</td>\n",
       "      <td>0.500</td>\n",
       "      <td>1.00</td>\n",
       "    </tr>\n",
       "    <tr>\n",
       "      <th>3</th>\n",
       "      <td>0.576923</td>\n",
       "      <td>1.0000</td>\n",
       "      <td>1.000</td>\n",
       "      <td>0.50</td>\n",
       "    </tr>\n",
       "    <tr>\n",
       "      <th>4</th>\n",
       "      <td>1.000000</td>\n",
       "      <td>0.1250</td>\n",
       "      <td>0.250</td>\n",
       "      <td>0.50</td>\n",
       "    </tr>\n",
       "  </tbody>\n",
       "</table>\n",
       "</div>"
      ],
      "text/plain": [
       "      price  storage  camera  looks\n",
       "0  0.882353   0.1875   0.125   0.75\n",
       "1  0.681818   0.5000   0.250   0.75\n",
       "2  0.789474   0.2500   0.500   1.00\n",
       "3  0.576923   1.0000   1.000   0.50\n",
       "4  1.000000   0.1250   0.250   0.50"
      ]
     },
     "execution_count": 43,
     "metadata": {},
     "output_type": "execute_result"
    }
   ],
   "source": [
    "x"
   ]
  },
  {
   "cell_type": "code",
   "execution_count": 44,
   "id": "welsh-class",
   "metadata": {},
   "outputs": [],
   "source": [
    "weights=[0.4,0.2,0.3,0.1]"
   ]
  },
  {
   "cell_type": "code",
   "execution_count": 45,
   "id": "beautiful-sodium",
   "metadata": {},
   "outputs": [],
   "source": [
    "for i,j in zip(x.columns,weights):\n",
    "    x[i]=x[i].apply(lambda a:a*j)"
   ]
  },
  {
   "cell_type": "code",
   "execution_count": 46,
   "id": "several-meeting",
   "metadata": {},
   "outputs": [],
   "source": [
    "x['ws']=x.sum(axis=1)"
   ]
  },
  {
   "cell_type": "code",
   "execution_count": 55,
   "id": "fleet-cleanup",
   "metadata": {},
   "outputs": [],
   "source": [
    "x['rank']=x['ws'].rank(method = 'max',ascending=False)"
   ]
  },
  {
   "cell_type": "code",
   "execution_count": 56,
   "id": "painful-antibody",
   "metadata": {},
   "outputs": [
    {
     "data": {
      "text/html": [
       "<div>\n",
       "<style scoped>\n",
       "    .dataframe tbody tr th:only-of-type {\n",
       "        vertical-align: middle;\n",
       "    }\n",
       "\n",
       "    .dataframe tbody tr th {\n",
       "        vertical-align: top;\n",
       "    }\n",
       "\n",
       "    .dataframe thead th {\n",
       "        text-align: right;\n",
       "    }\n",
       "</style>\n",
       "<table border=\"1\" class=\"dataframe\">\n",
       "  <thead>\n",
       "    <tr style=\"text-align: right;\">\n",
       "      <th></th>\n",
       "      <th>price</th>\n",
       "      <th>storage</th>\n",
       "      <th>camera</th>\n",
       "      <th>looks</th>\n",
       "      <th>ws</th>\n",
       "      <th>rank</th>\n",
       "    </tr>\n",
       "  </thead>\n",
       "  <tbody>\n",
       "    <tr>\n",
       "      <th>0</th>\n",
       "      <td>0.352941</td>\n",
       "      <td>0.0375</td>\n",
       "      <td>0.0375</td>\n",
       "      <td>0.075</td>\n",
       "      <td>0.502941</td>\n",
       "      <td>5.0</td>\n",
       "    </tr>\n",
       "    <tr>\n",
       "      <th>1</th>\n",
       "      <td>0.272727</td>\n",
       "      <td>0.1000</td>\n",
       "      <td>0.0750</td>\n",
       "      <td>0.075</td>\n",
       "      <td>0.522727</td>\n",
       "      <td>4.0</td>\n",
       "    </tr>\n",
       "    <tr>\n",
       "      <th>2</th>\n",
       "      <td>0.315789</td>\n",
       "      <td>0.0500</td>\n",
       "      <td>0.1500</td>\n",
       "      <td>0.100</td>\n",
       "      <td>0.615789</td>\n",
       "      <td>2.0</td>\n",
       "    </tr>\n",
       "    <tr>\n",
       "      <th>3</th>\n",
       "      <td>0.230769</td>\n",
       "      <td>0.2000</td>\n",
       "      <td>0.3000</td>\n",
       "      <td>0.050</td>\n",
       "      <td>0.780769</td>\n",
       "      <td>1.0</td>\n",
       "    </tr>\n",
       "    <tr>\n",
       "      <th>4</th>\n",
       "      <td>0.400000</td>\n",
       "      <td>0.0250</td>\n",
       "      <td>0.0750</td>\n",
       "      <td>0.050</td>\n",
       "      <td>0.550000</td>\n",
       "      <td>3.0</td>\n",
       "    </tr>\n",
       "  </tbody>\n",
       "</table>\n",
       "</div>"
      ],
      "text/plain": [
       "      price  storage  camera  looks        ws  rank\n",
       "0  0.352941   0.0375  0.0375  0.075  0.502941   5.0\n",
       "1  0.272727   0.1000  0.0750  0.075  0.522727   4.0\n",
       "2  0.315789   0.0500  0.1500  0.100  0.615789   2.0\n",
       "3  0.230769   0.2000  0.3000  0.050  0.780769   1.0\n",
       "4  0.400000   0.0250  0.0750  0.050  0.550000   3.0"
      ]
     },
     "execution_count": 56,
     "metadata": {},
     "output_type": "execute_result"
    }
   ],
   "source": [
    "x"
   ]
  },
  {
   "cell_type": "code",
   "execution_count": null,
   "id": "durable-interval",
   "metadata": {},
   "outputs": [],
   "source": []
  }
 ],
 "metadata": {
  "kernelspec": {
   "display_name": "Python 3",
   "language": "python",
   "name": "python3"
  },
  "language_info": {
   "codemirror_mode": {
    "name": "ipython",
    "version": 3
   },
   "file_extension": ".py",
   "mimetype": "text/x-python",
   "name": "python",
   "nbconvert_exporter": "python",
   "pygments_lexer": "ipython3",
   "version": "3.9.2"
  }
 },
 "nbformat": 4,
 "nbformat_minor": 5
}
